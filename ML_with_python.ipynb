{
 "cells": [
  {
   "cell_type": "code",
   "execution_count": 8,
   "id": "8190df69-dd02-460d-97b5-d7a6ae54df5f",
   "metadata": {},
   "outputs": [
    {
     "name": "stdout",
     "output_type": "stream",
     "text": [
      "Features used for training: \n",
      "Index(['Sex', '%Red Pixel', '%Green pixel', '%Blue pixel', 'Hb'], dtype='object')\n",
      "Shape of new_data:  (2, 5)\n",
      "Accuracy of dataset is: \n"
     ]
    },
    {
     "data": {
      "text/plain": [
       "1.0"
      ]
     },
     "execution_count": 8,
     "metadata": {},
     "output_type": "execute_result"
    }
   ],
   "source": [
    "import pandas as pd\n",
    "from sklearn.tree import DecisionTreeClassifier\n",
    "from sklearn.preprocessing import LabelEncoder\n",
    "from sklearn.model_selection import train_test_split\n",
    "from sklearn.metrics import accuracy_score\n",
    "\n",
    "anaemia_data = pd.read_csv('anaemia_dataset.csv')\n",
    "\n",
    "label_encoder = LabelEncoder()\n",
    "anaemia_data['Sex'] = label_encoder.fit_transform(anaemia_data['Sex'])\n",
    "\n",
    "X = anaemia_data.drop(columns=['Number','Anaemic'])\n",
    "y = anaemia_data['Anaemic']\n",
    "\n",
    "print(\"Features used for training: \")\n",
    "print(X.columns)\n",
    "\n",
    "X_train, X_test, y_train, y_test = train_test_split(X, y, test_size = 0.2)\n",
    "\n",
    "model = DecisionTreeClassifier()\n",
    "model.fit(X_train, y_train)\n",
    "\n",
    "new_data = pd.DataFrame({\n",
    "    'Sex': [label_encoder.transform(['M'])[0],\n",
    "            label_encoder.transform(['F'])[0]],\n",
    "    '%Red Pixel': [41,35],\n",
    "    '%Green pixel': [80,75],\n",
    "    '%Blue pixel': [15,20],\n",
    "    'Hb': [5,12]\n",
    "})\n",
    "\n",
    "print(\"Shape of new_data: \", new_data.shape)\n",
    "\n",
    "predictions = model.predict(X_test)\n",
    "score = accuracy_score(y_test, predictions)\n",
    "print('Accuracy of dataset is: ')\n",
    "score\n",
    "\n",
    "\n"
   ]
  },
  {
   "cell_type": "code",
   "execution_count": null,
   "id": "e82c95a1-33fa-454a-b5d3-62ed51c6548b",
   "metadata": {},
   "outputs": [],
   "source": []
  }
 ],
 "metadata": {
  "kernelspec": {
   "display_name": "Python 3 (ipykernel)",
   "language": "python",
   "name": "python3"
  },
  "language_info": {
   "codemirror_mode": {
    "name": "ipython",
    "version": 3
   },
   "file_extension": ".py",
   "mimetype": "text/x-python",
   "name": "python",
   "nbconvert_exporter": "python",
   "pygments_lexer": "ipython3",
   "version": "3.12.4"
  }
 },
 "nbformat": 4,
 "nbformat_minor": 5
}
